{
 "cells": [
  {
   "cell_type": "markdown",
   "id": "rough-germany",
   "metadata": {},
   "source": [
    "###  06 - Write a program to implement the naïve Bayesian classifier for a sample  training data set stored as a .CSV file. Compute the accuracy of the classifier, considering few test data sets."
   ]
  },
  {
   "cell_type": "code",
   "execution_count": 1,
   "id": "egyptian-result",
   "metadata": {},
   "outputs": [
    {
     "name": "stdout",
     "output_type": "stream",
     "text": [
      "Total Instances of Dataset:  18\n",
      "   am  amazing  an  and  awesome  bad  best  boss  can  deal  ...  the  this  \\\n",
      "0   1        0   0    1        0    0     0     0    0     0  ...    0     1   \n",
      "1   0        0   0    0        0    0     0     0    0     0  ...    0     1   \n",
      "2   0        0   0    0        0    0     0     0    0     0  ...    0     0   \n",
      "3   0        0   1    0        1    0     0     0    0     0  ...    0     0   \n",
      "4   0        0   0    0        0    0     0     0    0     0  ...    0     0   \n",
      "\n",
      "   tired  to  today  view  went  what  with  work  \n",
      "0      1   0      0     0     0     0     0     0  \n",
      "1      0   0      0     0     0     0     0     0  \n",
      "2      0   1      1     0     1     0     0     0  \n",
      "3      0   0      0     1     0     1     0     0  \n",
      "4      0   0      0     0     0     1     0     0  \n",
      "\n",
      "[5 rows x 43 columns]\n",
      "I am sick and tired of this place -> neg\n",
      "I love this sandwich -> pos\n",
      "I went to my enemy's house today -> neg\n",
      "What an awesome view -> neg\n",
      "What a great holiday -> neg\n",
      "Accuracy Metrics: \n",
      "\n",
      "Accuracy:  0.4\n",
      "Recall:  0.25\n",
      "Precision:  1.0\n",
      "Confusion Matrix: \n",
      " [[1 0]\n",
      " [3 1]]\n"
     ]
    },
    {
     "name": "stderr",
     "output_type": "stream",
     "text": [
      "c:\\users\\asus\\appdata\\local\\programs\\python\\python39\\lib\\site-packages\\sklearn\\utils\\deprecation.py:87: FutureWarning: Function get_feature_names is deprecated; get_feature_names is deprecated in 1.0 and will be removed in 1.2. Please use get_feature_names_out instead.\n",
      "  warnings.warn(msg, category=FutureWarning)\n"
     ]
    }
   ],
   "source": [
    "import pandas as pd\n",
    "msg = pd.read_csv('./Datasets/06_navie.csv', names=['message', 'label']) #Note: Give proper address of the csv file\n",
    "print(\"Total Instances of Dataset: \", msg.shape[0])\n",
    "msg['labelnum'] = msg.label.map({'pos': 1, 'neg': 0})\n",
    "\n",
    "X = msg.message\n",
    "y = msg.labelnum\n",
    "from sklearn.model_selection import train_test_split\n",
    "Xtrain, Xtest, ytrain, ytest = train_test_split(X, y)\n",
    "from sklearn.feature_extraction.text import CountVectorizer\n",
    "\n",
    "count_v = CountVectorizer()\n",
    "Xtrain_dm = count_v.fit_transform(Xtrain)\n",
    "Xtest_dm = count_v.transform(Xtest)\n",
    "\n",
    "df = pd.DataFrame(Xtrain_dm.toarray(),columns=count_v.get_feature_names())\n",
    "print(df[0:5])\n",
    "\n",
    "from sklearn.naive_bayes import MultinomialNB\n",
    "clf = MultinomialNB()\n",
    "clf.fit(Xtrain_dm, ytrain)\n",
    "pred = clf.predict(Xtest_dm)\n",
    "\n",
    "for doc, p in zip(Xtrain, pred):\n",
    "    p = 'pos' if p == 1 else 'neg'\n",
    "    print(\"%s -> %s\" % (doc, p))\n",
    "    \n",
    "from sklearn.metrics import accuracy_score, confusion_matrix, precision_score, recall_score\n",
    "print('Accuracy Metrics: \\n')\n",
    "print('Accuracy: ', accuracy_score(ytest, pred))\n",
    "print('Recall: ', recall_score(ytest, pred))\n",
    "print('Precision: ', precision_score(ytest, pred))\n",
    "print('Confusion Matrix: \\n', confusion_matrix(ytest, pred))"
   ]
  },
  {
   "cell_type": "code",
   "execution_count": null,
   "id": "egyptian-optimum",
   "metadata": {},
   "outputs": [],
   "source": []
  }
 ],
 "metadata": {
  "kernelspec": {
   "display_name": "Python 3",
   "language": "python",
   "name": "python3"
  },
  "language_info": {
   "codemirror_mode": {
    "name": "ipython",
    "version": 3
   },
   "file_extension": ".py",
   "mimetype": "text/x-python",
   "name": "python",
   "nbconvert_exporter": "python",
   "pygments_lexer": "ipython3",
   "version": "3.9.2"
  }
 },
 "nbformat": 4,
 "nbformat_minor": 5
}
